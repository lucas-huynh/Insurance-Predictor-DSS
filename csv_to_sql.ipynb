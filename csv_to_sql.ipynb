{
 "cells": [
  {
   "cell_type": "code",
   "execution_count": 15,
   "metadata": {},
   "outputs": [
    {
     "name": "stdout",
     "output_type": "stream",
     "text": [
      "Data loaded successfully into the 'patients' table!\n"
     ]
    }
   ],
   "source": [
    "from sqlalchemy import create_engine\n",
    "import pandas as pd\n",
    "\n",
    "# Define PostgreSQL connection details\n",
    "user = 'dadb'  # replace with your PostgreSQL username\n",
    "password = 'cunsBrother02!'  # replace with your PostgreSQL password\n",
    "host = 'localhost'  # or your host (e.g., IP address)\n",
    "port = '5432'  # default PostgreSQL port\n",
    "database = 'clinical_dss'  # replace with your database name\n",
    "\n",
    "# Create SQLAlchemy engine to connect to PostgreSQL\n",
    "engine = create_engine(f'postgresql://{user}:{password}@{host}:{port}/{database}')\n",
    "\n",
    "# Load the CSV data into pandas DataFrame\n",
    "df_patients = pd.read_csv('healthinsurancedatabase.csv')\n",
    "\n",
    "# Clean the patients DataFrame to ensure it matches the expected format\n",
    "df_patients_clean = df_patients[['patient_id', 'age', 'sex', 'bmi', 'children', 'smoker', 'region', 'charges', 'age_group', 'timestamp']]\n",
    "\n",
    "# Load the cleaned patients data into PostgreSQL\n",
    "df_patients_clean.to_sql('patients', con=engine, if_exists='replace', index=False)\n",
    "\n",
    "print(\"Data loaded successfully into the 'patients' table!\")\n",
    "\n"
   ]
  }
 ],
 "metadata": {
  "kernelspec": {
   "display_name": "base",
   "language": "python",
   "name": "python3"
  },
  "language_info": {
   "codemirror_mode": {
    "name": "ipython",
    "version": 3
   },
   "file_extension": ".py",
   "mimetype": "text/x-python",
   "name": "python",
   "nbconvert_exporter": "python",
   "pygments_lexer": "ipython3",
   "version": "3.12.2"
  }
 },
 "nbformat": 4,
 "nbformat_minor": 2
}
